{
 "cells": [
  {
   "cell_type": "code",
   "execution_count": 4,
   "metadata": {},
   "outputs": [],
   "source": [
    "import numpy as np\n",
    "import pandas as pd"
   ]
  },
  {
   "cell_type": "code",
   "execution_count": 3,
   "metadata": {},
   "outputs": [
    {
     "data": {
      "text/plain": [
       "0.242"
      ]
     },
     "execution_count": 3,
     "metadata": {},
     "output_type": "execute_result"
    }
   ],
   "source": [
    "# 2 punto\n",
    "ret = np.array([0.2, -0.1, 0.15])\n",
    "# Rendimiento total\n",
    "rT = (1 + ret).prod() - 1\n",
    "rT"
   ]
  },
  {
   "cell_type": "code",
   "execution_count": 5,
   "metadata": {},
   "outputs": [
    {
     "data": {
      "text/plain": [
       "0.053"
      ]
     },
     "execution_count": 5,
     "metadata": {},
     "output_type": "execute_result"
    }
   ],
   "source": [
    "# 3 punto\n",
    "# Suponga que las probabilidades de recesión, normalidad y expansión en la\n",
    "# economía son de 40%, 30%, y 30% respectivamente. Además, suponga que va\n",
    "# a tener un rendimiento anual en sus inversiones del -10% en caso de recesión,\n",
    "# 8% en caso de normalidad y 23% en caso de expansión.\n",
    "# ¿Cuál sería el rendimiento esperado anual de sus inversiones? \n",
    "tabla = pd.DataFrame(data={'prob': [0.4, 0.3, 0.3],\n",
    "                           'ret': [-0.1, 0.08, 0.23]})\n",
    "# Rendimiento esperado\n",
    "Er = (tabla['prob'] * tabla['ret']).sum()\n",
    "Er"
   ]
  },
  {
   "cell_type": "code",
   "execution_count": 6,
   "metadata": {},
   "outputs": [
    {
     "data": {
      "text/plain": [
       "0.13777155003846042"
      ]
     },
     "execution_count": 6,
     "metadata": {},
     "output_type": "execute_result"
    }
   ],
   "source": [
    "# 4 punto\n",
    "# Volatilidad\n",
    "sr = (tabla['prob'] * (tabla['ret'] - Er)**2).sum()**0.5\n",
    "sr"
   ]
  },
  {
   "cell_type": "code",
   "execution_count": null,
   "metadata": {},
   "outputs": [],
   "source": []
  }
 ],
 "metadata": {
  "kernelspec": {
   "display_name": "Python 3",
   "language": "python",
   "name": "python3"
  },
  "language_info": {
   "codemirror_mode": {
    "name": "ipython",
    "version": 3
   },
   "file_extension": ".py",
   "mimetype": "text/x-python",
   "name": "python",
   "nbconvert_exporter": "python",
   "pygments_lexer": "ipython3",
   "version": "3.7.6"
  }
 },
 "nbformat": 4,
 "nbformat_minor": 4
}
